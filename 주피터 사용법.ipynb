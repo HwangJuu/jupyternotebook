{
 "cells": [
  {
   "cell_type": "markdown",
   "id": "82ec0bb6",
   "metadata": {},
   "source": [
    "### 실행 : shift + enter(셀이 수행되고 아래 쪽에 새로운 셀 삽입), ctrl + enter(셀 수행)"
   ]
  },
  {
   "cell_type": "code",
   "execution_count": 1,
   "id": "1fb47f30",
   "metadata": {},
   "outputs": [
    {
     "name": "stdout",
     "output_type": "stream",
     "text": [
      "Hello\n"
     ]
    }
   ],
   "source": [
    "print('Hello')"
   ]
  },
  {
   "cell_type": "code",
   "execution_count": 2,
   "id": "54da9647",
   "metadata": {},
   "outputs": [
    {
     "name": "stdout",
     "output_type": "stream",
     "text": [
      "0\n",
      "1\n",
      "2\n",
      "3\n",
      "4\n",
      "5\n",
      "6\n",
      "7\n",
      "8\n",
      "9\n"
     ]
    }
   ],
   "source": [
    "for i in range(10):\n",
    "    print(i)"
   ]
  },
  {
   "cell_type": "markdown",
   "id": "01671050",
   "metadata": {},
   "source": [
    "<h3> 마크다운</h3>"
   ]
  },
  {
   "cell_type": "markdown",
   "id": "fadcd153",
   "metadata": {},
   "source": [
    "### 마크다운"
   ]
  },
  {
   "cell_type": "markdown",
   "id": "518559d4",
   "metadata": {},
   "source": [
    "- 리스트1\n",
    "    - 리스트1"
   ]
  },
  {
   "cell_type": "markdown",
   "id": "fe264288",
   "metadata": {},
   "source": [
    "<img src='https://blog.kakaocdn.net/dn/cgkUIV/btqRqcabOMh/iSwGFjqyYk5pidLEb8K641/img.png' width='300' height='300'>"
   ]
  },
  {
   "cell_type": "code",
   "execution_count": null,
   "id": "21af66b4",
   "metadata": {},
   "outputs": [],
   "source": []
  }
 ],
 "metadata": {
  "kernelspec": {
   "display_name": "Python 3 (ipykernel)",
   "language": "python",
   "name": "python3"
  },
  "language_info": {
   "codemirror_mode": {
    "name": "ipython",
    "version": 3
   },
   "file_extension": ".py",
   "mimetype": "text/x-python",
   "name": "python",
   "nbconvert_exporter": "python",
   "pygments_lexer": "ipython3",
   "version": "3.9.12"
  }
 },
 "nbformat": 4,
 "nbformat_minor": 5
}
