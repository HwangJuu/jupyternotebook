{
 "cells": [
  {
   "cell_type": "markdown",
   "id": "b643330c",
   "metadata": {},
   "source": [
    "### box plot(상자 그림)\n",
    "- 백분위 수 : 데이터를 백등분 한 것\n",
    "- 사분위 수 : 데이터를 4등분 한 것\n",
    "- 중위수 : 데이터의 정 가운데 순위에 해당하는 값.(관측치의 절반은 크거나 같고 나머지 절반은 작거나 같다.)\n",
    "- 제 3사분위 수 (Q3) : 중앙값 기준으로 상위 50% 중의 중앙값, 전체 데이터 중 상위 25%에 해당하는 값\n",
    "- 제 1사분위 수 (Q1) : 중앙값 기준으로 하위 50% 중의 중앙값, 전체 데이터 중 하위 25%에 해당하는 값\n",
    "- 사분위 범위 수(IQR) : 데이터의 중간 50% (Q3 - Q1)\n",
    "<table>\n",
    "    <tr>\n",
    "        <td><img src='https://pandas.pydata.org/docs/_images/box_plot_new.png' width='400' height='400'></td>\n",
    "        <td><img src='https://upload.wikimedia.org/wikipedia/commons/thumb/f/fa/Michelsonmorley-boxplot.svg/1024px-Michelsonmorley-boxplot.svg.png' width='400' height='400'></td>\n",
    "    </tr>\n",
    "</table>"
   ]
  },
  {
   "cell_type": "code",
   "execution_count": 1,
   "id": "8d8213e7",
   "metadata": {},
   "outputs": [],
   "source": [
    "import pandas as pd\n",
    "import matplotlib.pyplot as plt\n",
    "import numpy as np\n",
    "\n",
    "# 한글처리\n",
    "plt.rcParams['font.family'] = 'Malgun Gothic'\n",
    "plt.rcParams['axes.unicode_minus'] = False"
   ]
  },
  {
   "cell_type": "code",
   "execution_count": 2,
   "id": "06d90cc4",
   "metadata": {},
   "outputs": [
    {
     "data": {
      "text/html": [
       "<div>\n",
       "<style scoped>\n",
       "    .dataframe tbody tr th:only-of-type {\n",
       "        vertical-align: middle;\n",
       "    }\n",
       "\n",
       "    .dataframe tbody tr th {\n",
       "        vertical-align: top;\n",
       "    }\n",
       "\n",
       "    .dataframe thead th {\n",
       "        text-align: right;\n",
       "    }\n",
       "</style>\n",
       "<table border=\"1\" class=\"dataframe\">\n",
       "  <thead>\n",
       "    <tr style=\"text-align: right;\">\n",
       "      <th></th>\n",
       "      <th>A</th>\n",
       "      <th>B</th>\n",
       "      <th>C</th>\n",
       "      <th>D</th>\n",
       "      <th>E</th>\n",
       "    </tr>\n",
       "  </thead>\n",
       "  <tbody>\n",
       "    <tr>\n",
       "      <th>0</th>\n",
       "      <td>0.511298</td>\n",
       "      <td>0.351453</td>\n",
       "      <td>0.734639</td>\n",
       "      <td>0.992018</td>\n",
       "      <td>0.023055</td>\n",
       "    </tr>\n",
       "    <tr>\n",
       "      <th>1</th>\n",
       "      <td>0.256432</td>\n",
       "      <td>0.842646</td>\n",
       "      <td>0.319211</td>\n",
       "      <td>0.039848</td>\n",
       "      <td>0.531391</td>\n",
       "    </tr>\n",
       "    <tr>\n",
       "      <th>2</th>\n",
       "      <td>0.315997</td>\n",
       "      <td>0.190178</td>\n",
       "      <td>0.037233</td>\n",
       "      <td>0.701886</td>\n",
       "      <td>0.431629</td>\n",
       "    </tr>\n",
       "    <tr>\n",
       "      <th>3</th>\n",
       "      <td>0.286316</td>\n",
       "      <td>0.432997</td>\n",
       "      <td>0.506113</td>\n",
       "      <td>0.289163</td>\n",
       "      <td>0.064982</td>\n",
       "    </tr>\n",
       "    <tr>\n",
       "      <th>4</th>\n",
       "      <td>0.399498</td>\n",
       "      <td>0.719654</td>\n",
       "      <td>0.848627</td>\n",
       "      <td>0.219231</td>\n",
       "      <td>0.967609</td>\n",
       "    </tr>\n",
       "    <tr>\n",
       "      <th>5</th>\n",
       "      <td>0.935265</td>\n",
       "      <td>0.516216</td>\n",
       "      <td>0.618690</td>\n",
       "      <td>0.354963</td>\n",
       "      <td>0.253923</td>\n",
       "    </tr>\n",
       "    <tr>\n",
       "      <th>6</th>\n",
       "      <td>0.315805</td>\n",
       "      <td>0.754926</td>\n",
       "      <td>0.615262</td>\n",
       "      <td>0.201628</td>\n",
       "      <td>0.517785</td>\n",
       "    </tr>\n",
       "    <tr>\n",
       "      <th>7</th>\n",
       "      <td>0.244523</td>\n",
       "      <td>0.346141</td>\n",
       "      <td>0.045050</td>\n",
       "      <td>0.372204</td>\n",
       "      <td>0.291913</td>\n",
       "    </tr>\n",
       "    <tr>\n",
       "      <th>8</th>\n",
       "      <td>0.648431</td>\n",
       "      <td>0.466568</td>\n",
       "      <td>0.520866</td>\n",
       "      <td>0.637590</td>\n",
       "      <td>0.865080</td>\n",
       "    </tr>\n",
       "    <tr>\n",
       "      <th>9</th>\n",
       "      <td>0.045181</td>\n",
       "      <td>0.466662</td>\n",
       "      <td>0.311564</td>\n",
       "      <td>0.592607</td>\n",
       "      <td>0.236842</td>\n",
       "    </tr>\n",
       "  </tbody>\n",
       "</table>\n",
       "</div>"
      ],
      "text/plain": [
       "          A         B         C         D         E\n",
       "0  0.511298  0.351453  0.734639  0.992018  0.023055\n",
       "1  0.256432  0.842646  0.319211  0.039848  0.531391\n",
       "2  0.315997  0.190178  0.037233  0.701886  0.431629\n",
       "3  0.286316  0.432997  0.506113  0.289163  0.064982\n",
       "4  0.399498  0.719654  0.848627  0.219231  0.967609\n",
       "5  0.935265  0.516216  0.618690  0.354963  0.253923\n",
       "6  0.315805  0.754926  0.615262  0.201628  0.517785\n",
       "7  0.244523  0.346141  0.045050  0.372204  0.291913\n",
       "8  0.648431  0.466568  0.520866  0.637590  0.865080\n",
       "9  0.045181  0.466662  0.311564  0.592607  0.236842"
      ]
     },
     "execution_count": 2,
     "metadata": {},
     "output_type": "execute_result"
    }
   ],
   "source": [
    "# 생성\n",
    "df = pd.DataFrame(np.random.rand(10,5), columns=list('ABCDE'))\n",
    "df"
   ]
  },
  {
   "cell_type": "code",
   "execution_count": 3,
   "id": "b0b3280d",
   "metadata": {
    "scrolled": false
   },
   "outputs": [
    {
     "data": {
      "text/plain": [
       "<AxesSubplot:>"
      ]
     },
     "execution_count": 3,
     "metadata": {},
     "output_type": "execute_result"
    },
    {
     "data": {
      "image/png": "[encoded data removed]",
      "text/plain": [
       "<Figure size 432x288 with 1 Axes>"
      ]
     },
     "metadata": {
      "needs_background": "light"
     },
     "output_type": "display_data"
    }
   ],
   "source": [
    "df.plot.box()"
   ]
  },
  {
   "cell_type": "code",
   "execution_count": 4,
   "id": "c3c1abb6",
   "metadata": {},
   "outputs": [
    {
     "data": {
      "text/html": [
       "<div>\n",
       "<style scoped>\n",
       "    .dataframe tbody tr th:only-of-type {\n",
       "        vertical-align: middle;\n",
       "    }\n",
       "\n",
       "    .dataframe tbody tr th {\n",
       "        vertical-align: top;\n",
       "    }\n",
       "\n",
       "    .dataframe thead th {\n",
       "        text-align: right;\n",
       "    }\n",
       "</style>\n",
       "<table border=\"1\" class=\"dataframe\">\n",
       "  <thead>\n",
       "    <tr style=\"text-align: right;\">\n",
       "      <th></th>\n",
       "      <th>A</th>\n",
       "      <th>B</th>\n",
       "      <th>C</th>\n",
       "      <th>D</th>\n",
       "      <th>E</th>\n",
       "    </tr>\n",
       "  </thead>\n",
       "  <tbody>\n",
       "    <tr>\n",
       "      <th>count</th>\n",
       "      <td>10.000000</td>\n",
       "      <td>10.000000</td>\n",
       "      <td>10.000000</td>\n",
       "      <td>10.000000</td>\n",
       "      <td>10.000000</td>\n",
       "    </tr>\n",
       "    <tr>\n",
       "      <th>mean</th>\n",
       "      <td>0.395875</td>\n",
       "      <td>0.508744</td>\n",
       "      <td>0.455726</td>\n",
       "      <td>0.440114</td>\n",
       "      <td>0.418421</td>\n",
       "    </tr>\n",
       "    <tr>\n",
       "      <th>std</th>\n",
       "      <td>0.249041</td>\n",
       "      <td>0.205098</td>\n",
       "      <td>0.273692</td>\n",
       "      <td>0.285949</td>\n",
       "      <td>0.312906</td>\n",
       "    </tr>\n",
       "    <tr>\n",
       "      <th>min</th>\n",
       "      <td>0.045181</td>\n",
       "      <td>0.190178</td>\n",
       "      <td>0.037233</td>\n",
       "      <td>0.039848</td>\n",
       "      <td>0.023055</td>\n",
       "    </tr>\n",
       "    <tr>\n",
       "      <th>25%</th>\n",
       "      <td>0.263903</td>\n",
       "      <td>0.371839</td>\n",
       "      <td>0.313476</td>\n",
       "      <td>0.236714</td>\n",
       "      <td>0.241112</td>\n",
       "    </tr>\n",
       "    <tr>\n",
       "      <th>50%</th>\n",
       "      <td>0.315901</td>\n",
       "      <td>0.466615</td>\n",
       "      <td>0.513490</td>\n",
       "      <td>0.363584</td>\n",
       "      <td>0.361771</td>\n",
       "    </tr>\n",
       "    <tr>\n",
       "      <th>75%</th>\n",
       "      <td>0.483348</td>\n",
       "      <td>0.668794</td>\n",
       "      <td>0.617833</td>\n",
       "      <td>0.626345</td>\n",
       "      <td>0.527989</td>\n",
       "    </tr>\n",
       "    <tr>\n",
       "      <th>max</th>\n",
       "      <td>0.935265</td>\n",
       "      <td>0.842646</td>\n",
       "      <td>0.848627</td>\n",
       "      <td>0.992018</td>\n",
       "      <td>0.967609</td>\n",
       "    </tr>\n",
       "  </tbody>\n",
       "</table>\n",
       "</div>"
      ],
      "text/plain": [
       "               A          B          C          D          E\n",
       "count  10.000000  10.000000  10.000000  10.000000  10.000000\n",
       "mean    0.395875   0.508744   0.455726   0.440114   0.418421\n",
       "std     0.249041   0.205098   0.273692   0.285949   0.312906\n",
       "min     0.045181   0.190178   0.037233   0.039848   0.023055\n",
       "25%     0.263903   0.371839   0.313476   0.236714   0.241112\n",
       "50%     0.315901   0.466615   0.513490   0.363584   0.361771\n",
       "75%     0.483348   0.668794   0.617833   0.626345   0.527989\n",
       "max     0.935265   0.842646   0.848627   0.992018   0.967609"
      ]
     },
     "execution_count": 4,
     "metadata": {},
     "output_type": "execute_result"
    }
   ],
   "source": [
    "# 수치 통계 == 기준\n",
    "df.describe()"
   ]
  },
  {
   "cell_type": "code",
   "execution_count": 5,
   "id": "be2ac3f3",
   "metadata": {},
   "outputs": [
    {
     "data": {
      "text/plain": [
       "<AxesSubplot:>"
      ]
     },
     "execution_count": 5,
     "metadata": {},
     "output_type": "execute_result"
    },
    {
     "data": {
      "image/png": "[encoded data removed]",
      "text/plain": [
       "<Figure size 432x288 with 1 Axes>"
      ]
     },
     "metadata": {
      "needs_background": "light"
     },
     "output_type": "display_data"
    }
   ],
   "source": [
    "# 색상 주기==> key, value\n",
    "color = {'boxes':'DarkGreen','whiskers':'DarkOrange','medians':'DarkBlue','caps':'Gray'}\n",
    "\n",
    "df.plot.box(color=color, sym='r+')"
   ]
  },
  {
   "cell_type": "code",
   "execution_count": 6,
   "id": "386e6fdc",
   "metadata": {},
   "outputs": [
    {
     "data": {
      "text/plain": [
       "<AxesSubplot:>"
      ]
     },
     "execution_count": 6,
     "metadata": {},
     "output_type": "execute_result"
    },
    {
     "data": {
      "image/png": "[encoded data removed]",
      "text/plain": [
       "<Figure size 432x288 with 1 Axes>"
      ]
     },
     "metadata": {
      "needs_background": "light"
     },
     "output_type": "display_data"
    }
   ],
   "source": [
    "# vert : 그래프 옆으로\n",
    "df.plot.box(color=color, sym='r+', vert=False)"
   ]
  },
  {
   "cell_type": "code",
   "execution_count": null,
   "id": "4a70484a",
   "metadata": {},
   "outputs": [],
   "source": []
  }
 ],
 "metadata": {
  "kernelspec": {
   "display_name": "Python 3 (ipykernel)",
   "language": "python",
   "name": "python3"
  },
  "language_info": {
   "codemirror_mode": {
    "name": "ipython",
    "version": 3
   },
   "file_extension": ".py",
   "mimetype": "text/x-python",
   "name": "python",
   "nbconvert_exporter": "python",
   "pygments_lexer": "ipython3",
   "version": "3.9.12"
  }
 },
 "nbformat": 4,
 "nbformat_minor": 5
}
