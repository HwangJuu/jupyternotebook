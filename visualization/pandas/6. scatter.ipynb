{
 "cells": [
  {
   "cell_type": "markdown",
   "id": "0d931c3a",
   "metadata": {},
   "source": [
    "### scatter plot(산점도)\n",
    "- 데이터 분포도, 데이터 사이의 연관관계등을 살펴볼때 주로 사용"
   ]
  },
  {
   "cell_type": "code",
   "execution_count": 1,
   "id": "214cd661",
   "metadata": {},
   "outputs": [],
   "source": [
    "import pandas as pd\n",
    "import matplotlib.pyplot as plt\n",
    "import numpy as np\n",
    "\n",
    "# 한글처리\n",
    "plt.rcParams['font.family'] = 'Malgun Gothic'\n",
    "plt.rcParams['axes.unicode_minus'] = False"
   ]
  },
  {
   "cell_type": "code",
   "execution_count": 2,
   "id": "600a5aaa",
   "metadata": {},
   "outputs": [
    {
     "data": {
      "text/html": [
       "<div>\n",
       "<style scoped>\n",
       "    .dataframe tbody tr th:only-of-type {\n",
       "        vertical-align: middle;\n",
       "    }\n",
       "\n",
       "    .dataframe tbody tr th {\n",
       "        vertical-align: top;\n",
       "    }\n",
       "\n",
       "    .dataframe thead th {\n",
       "        text-align: right;\n",
       "    }\n",
       "</style>\n",
       "<table border=\"1\" class=\"dataframe\">\n",
       "  <thead>\n",
       "    <tr style=\"text-align: right;\">\n",
       "      <th></th>\n",
       "      <th>a</th>\n",
       "      <th>b</th>\n",
       "      <th>c</th>\n",
       "      <th>d</th>\n",
       "    </tr>\n",
       "  </thead>\n",
       "  <tbody>\n",
       "    <tr>\n",
       "      <th>0</th>\n",
       "      <td>0.998289</td>\n",
       "      <td>0.937960</td>\n",
       "      <td>0.879391</td>\n",
       "      <td>0.869714</td>\n",
       "    </tr>\n",
       "    <tr>\n",
       "      <th>1</th>\n",
       "      <td>0.084151</td>\n",
       "      <td>0.343477</td>\n",
       "      <td>0.814929</td>\n",
       "      <td>0.753646</td>\n",
       "    </tr>\n",
       "    <tr>\n",
       "      <th>2</th>\n",
       "      <td>0.117660</td>\n",
       "      <td>0.228867</td>\n",
       "      <td>0.157068</td>\n",
       "      <td>0.815000</td>\n",
       "    </tr>\n",
       "    <tr>\n",
       "      <th>3</th>\n",
       "      <td>0.643352</td>\n",
       "      <td>0.791343</td>\n",
       "      <td>0.607246</td>\n",
       "      <td>0.228836</td>\n",
       "    </tr>\n",
       "    <tr>\n",
       "      <th>4</th>\n",
       "      <td>0.133185</td>\n",
       "      <td>0.173965</td>\n",
       "      <td>0.568550</td>\n",
       "      <td>0.192368</td>\n",
       "    </tr>\n",
       "  </tbody>\n",
       "</table>\n",
       "</div>"
      ],
      "text/plain": [
       "          a         b         c         d\n",
       "0  0.998289  0.937960  0.879391  0.869714\n",
       "1  0.084151  0.343477  0.814929  0.753646\n",
       "2  0.117660  0.228867  0.157068  0.815000\n",
       "3  0.643352  0.791343  0.607246  0.228836\n",
       "4  0.133185  0.173965  0.568550  0.192368"
      ]
     },
     "execution_count": 2,
     "metadata": {},
     "output_type": "execute_result"
    }
   ],
   "source": [
    "# 생성\n",
    "df = pd.DataFrame(np.random.rand(20,4), columns=list('abcd'))\n",
    "df.head()"
   ]
  },
  {
   "cell_type": "code",
   "execution_count": 3,
   "id": "5f5087ed",
   "metadata": {},
   "outputs": [
    {
     "data": {
      "text/plain": [
       "<AxesSubplot:xlabel='a', ylabel='b'>"
      ]
     },
     "execution_count": 3,
     "metadata": {},
     "output_type": "execute_result"
    },
    {
     "data": {
      "image/png": "[encoded data removed]",
      "text/plain": [
       "<Figure size 432x288 with 1 Axes>"
      ]
     },
     "metadata": {
      "needs_background": "light"
     },
     "output_type": "display_data"
    }
   ],
   "source": [
    "# 두개의 연관관계\n",
    "df.plot.scatter(x='a', y='b')"
   ]
  },
  {
   "cell_type": "code",
   "execution_count": 4,
   "id": "15981f53",
   "metadata": {},
   "outputs": [
    {
     "data": {
      "text/plain": [
       "<AxesSubplot:xlabel='a', ylabel='b'>"
      ]
     },
     "execution_count": 4,
     "metadata": {},
     "output_type": "execute_result"
    },
    {
     "data": {
      "image/png": "[encoded data removed]",
      "text/plain": [
       "<Figure size 432x288 with 1 Axes>"
      ]
     },
     "metadata": {
      "needs_background": "light"
     },
     "output_type": "display_data"
    }
   ],
   "source": [
    "# 점 크기 : s\n",
    "df.plot.scatter(x='a', y='b', s=50)"
   ]
  },
  {
   "cell_type": "code",
   "execution_count": 5,
   "id": "b24eb80b",
   "metadata": {},
   "outputs": [
    {
     "data": {
      "text/plain": [
       "<AxesSubplot:xlabel='c', ylabel='d'>"
      ]
     },
     "execution_count": 5,
     "metadata": {},
     "output_type": "execute_result"
    },
    {
     "data": {
      "image/png": "[encoded data removed]",
      "text/plain": [
       "<Figure size 432x288 with 1 Axes>"
      ]
     },
     "metadata": {
      "needs_background": "light"
     },
     "output_type": "display_data"
    }
   ],
   "source": [
    "# a와b의 관계, c와d의 관계 그룹으로 묶기\n",
    "ax = df.plot.scatter(x='a', y='b', s=50, color='DarkBlue', label='Group1')\n",
    "df.plot.scatter(x='c', y='d', s=50, color='DarkGreen', label='Group2', ax=ax)"
   ]
  },
  {
   "cell_type": "code",
   "execution_count": 6,
   "id": "4cbc44ce",
   "metadata": {},
   "outputs": [
    {
     "data": {
      "text/plain": [
       "<AxesSubplot:xlabel='a', ylabel='b'>"
      ]
     },
     "execution_count": 6,
     "metadata": {},
     "output_type": "execute_result"
    },
    {
     "data": {
      "image/png": "[encoded data removed]",
      "text/plain": [
       "<Figure size 432x288 with 2 Axes>"
      ]
     },
     "metadata": {
      "needs_background": "light"
     },
     "output_type": "display_data"
    }
   ],
   "source": [
    "df.plot.scatter(x='a',y='b', s=50,c='c')"
   ]
  },
  {
   "cell_type": "code",
   "execution_count": 7,
   "id": "02887f1f",
   "metadata": {},
   "outputs": [
    {
     "data": {
      "text/plain": [
       "<AxesSubplot:xlabel='a', ylabel='b'>"
      ]
     },
     "execution_count": 7,
     "metadata": {},
     "output_type": "execute_result"
    },
    {
     "data": {
      "image/png": "[encoded data removed]",
      "text/plain": [
       "<Figure size 432x288 with 2 Axes>"
      ]
     },
     "metadata": {
      "needs_background": "light"
     },
     "output_type": "display_data"
    }
   ],
   "source": [
    "df.plot.scatter(x='a',y='b', s=df['d']*500,c='c')"
   ]
  },
  {
   "cell_type": "code",
   "execution_count": null,
   "id": "e237c98b",
   "metadata": {},
   "outputs": [],
   "source": []
  }
 ],
 "metadata": {
  "kernelspec": {
   "display_name": "Python 3 (ipykernel)",
   "language": "python",
   "name": "python3"
  },
  "language_info": {
   "codemirror_mode": {
    "name": "ipython",
    "version": 3
   },
   "file_extension": ".py",
   "mimetype": "text/x-python",
   "name": "python",
   "nbconvert_exporter": "python",
   "pygments_lexer": "ipython3",
   "version": "3.9.12"
  }
 },
 "nbformat": 4,
 "nbformat_minor": 5
}
