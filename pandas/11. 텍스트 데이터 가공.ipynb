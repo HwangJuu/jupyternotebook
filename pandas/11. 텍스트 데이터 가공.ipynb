{
 "cells": [
  {
   "cell_type": "markdown",
   "id": "3ca20a3b",
   "metadata": {},
   "source": [
    "### [참고] <a href=\"https://pandas.pydata.org/Pandas_Cheat_Sheet.pdf\">Pandas Cheat Sheet</a>\n",
    "\n",
    "#### https://pandas.pydata.org/docs/user_guide/text.html"
   ]
  },
  {
   "cell_type": "markdown",
   "id": "860888c6",
   "metadata": {},
   "source": [
    "**str 메소드**\n",
    "- pandas.core.strings.StringMethods 의 별칭\n",
    "- 호출할 수 없기 때문에 괄호를 사용하지 않음"
   ]
  },
  {
   "cell_type": "code",
   "execution_count": 1,
   "id": "161fc435",
   "metadata": {},
   "outputs": [],
   "source": [
    "# 라이브러리\n",
    "import pandas as pd\n",
    "import numpy as np"
   ]
  },
  {
   "cell_type": "code",
   "execution_count": 2,
   "id": "99fd1b63",
   "metadata": {},
   "outputs": [
    {
     "data": {
      "text/plain": [
       "0      Suho\n",
       "1        AA\n",
       "2       NaN\n",
       "3    Rabbit\n",
       "dtype: object"
      ]
     },
     "execution_count": 2,
     "metadata": {},
     "output_type": "execute_result"
    }
   ],
   "source": [
    "# 생성\n",
    "ser = pd.Series(['Suho','AA', np.nan, 'Rabbit'])\n",
    "ser"
   ]
  },
  {
   "cell_type": "markdown",
   "id": "cefdaed3",
   "metadata": {},
   "source": [
    "#### 1) lower() / upper() / len()"
   ]
  },
  {
   "cell_type": "code",
   "execution_count": 3,
   "id": "f57b4828",
   "metadata": {},
   "outputs": [
    {
     "data": {
      "text/plain": [
       "0      suho\n",
       "1        aa\n",
       "2       NaN\n",
       "3    rabbit\n",
       "dtype: object"
      ]
     },
     "execution_count": 3,
     "metadata": {},
     "output_type": "execute_result"
    }
   ],
   "source": [
    "# 전체 소문자로 변경.\n",
    "ser.str.lower()"
   ]
  },
  {
   "cell_type": "code",
   "execution_count": 4,
   "id": "99227444",
   "metadata": {},
   "outputs": [
    {
     "data": {
      "text/plain": [
       "0      SUHO\n",
       "1        AA\n",
       "2       NaN\n",
       "3    RABBIT\n",
       "dtype: object"
      ]
     },
     "execution_count": 4,
     "metadata": {},
     "output_type": "execute_result"
    }
   ],
   "source": [
    "# 전체 대문자로 변경\n",
    "ser.str.upper()"
   ]
  },
  {
   "cell_type": "code",
   "execution_count": 5,
   "id": "067d1e56",
   "metadata": {
    "scrolled": true
   },
   "outputs": [
    {
     "data": {
      "text/plain": [
       "0    4.0\n",
       "1    2.0\n",
       "2    NaN\n",
       "3    6.0\n",
       "dtype: float64"
      ]
     },
     "execution_count": 5,
     "metadata": {},
     "output_type": "execute_result"
    }
   ],
   "source": [
    "# 길이 구하기\n",
    "ser.str.len()"
   ]
  },
  {
   "cell_type": "markdown",
   "id": "62d969d8",
   "metadata": {},
   "source": [
    "#### 2) strip() : 공백 제거"
   ]
  },
  {
   "cell_type": "code",
   "execution_count": 6,
   "id": "947d5009",
   "metadata": {
    "scrolled": false
   },
   "outputs": [
    {
     "data": {
      "text/plain": [
       "0         Suho    \n",
       "1               AA\n",
       "2              NaN\n",
       "3           Rabbit\n",
       "dtype: object"
      ]
     },
     "execution_count": 6,
     "metadata": {},
     "output_type": "execute_result"
    }
   ],
   "source": [
    "# 생성\n",
    "ser = pd.Series(['Suho    ','AA', np.nan, '       Rabbit'])\n",
    "ser"
   ]
  },
  {
   "cell_type": "code",
   "execution_count": 7,
   "id": "d3477ef3",
   "metadata": {},
   "outputs": [
    {
     "data": {
      "text/plain": [
       "0      Suho\n",
       "1        AA\n",
       "2       NaN\n",
       "3    Rabbit\n",
       "dtype: object"
      ]
     },
     "execution_count": 7,
     "metadata": {},
     "output_type": "execute_result"
    }
   ],
   "source": [
    "ser.str.strip()"
   ]
  },
  {
   "cell_type": "code",
   "execution_count": 8,
   "id": "60b6b2ae",
   "metadata": {},
   "outputs": [
    {
     "data": {
      "text/html": [
       "<div>\n",
       "<style scoped>\n",
       "    .dataframe tbody tr th:only-of-type {\n",
       "        vertical-align: middle;\n",
       "    }\n",
       "\n",
       "    .dataframe tbody tr th {\n",
       "        vertical-align: top;\n",
       "    }\n",
       "\n",
       "    .dataframe thead th {\n",
       "        text-align: right;\n",
       "    }\n",
       "</style>\n",
       "<table border=\"1\" class=\"dataframe\">\n",
       "  <thead>\n",
       "    <tr style=\"text-align: right;\">\n",
       "      <th></th>\n",
       "      <th>Column A</th>\n",
       "      <th>Column B</th>\n",
       "    </tr>\n",
       "  </thead>\n",
       "  <tbody>\n",
       "    <tr>\n",
       "      <th>0</th>\n",
       "      <td>0.411809</td>\n",
       "      <td>-2.346133</td>\n",
       "    </tr>\n",
       "    <tr>\n",
       "      <th>1</th>\n",
       "      <td>-0.689741</td>\n",
       "      <td>-3.207840</td>\n",
       "    </tr>\n",
       "  </tbody>\n",
       "</table>\n",
       "</div>"
      ],
      "text/plain": [
       "      Column A  Column B  \n",
       "0     0.411809   -2.346133\n",
       "1    -0.689741   -3.207840"
      ]
     },
     "execution_count": 8,
     "metadata": {},
     "output_type": "execute_result"
    }
   ],
   "source": [
    "# 생성\n",
    "df = pd.DataFrame(np.random.randn(2,2), columns=['   Column A','Column B  '])\n",
    "df"
   ]
  },
  {
   "cell_type": "code",
   "execution_count": 9,
   "id": "13c22054",
   "metadata": {},
   "outputs": [
    {
     "data": {
      "text/plain": [
       "Index(['   Column A', 'Column B  '], dtype='object')"
      ]
     },
     "execution_count": 9,
     "metadata": {},
     "output_type": "execute_result"
    }
   ],
   "source": [
    "# 공백확인\n",
    "df.columns"
   ]
  },
  {
   "cell_type": "code",
   "execution_count": 10,
   "id": "afd565fa",
   "metadata": {
    "scrolled": true
   },
   "outputs": [
    {
     "ename": "KeyError",
     "evalue": "'Column A'",
     "output_type": "error",
     "traceback": [
      "\u001b[1;31m---------------------------------------------------------------------------\u001b[0m",
      "\u001b[1;31mKeyError\u001b[0m                                  Traceback (most recent call last)",
      "File \u001b[1;32mD:\\0.handout\\anaconda3\\lib\\site-packages\\pandas\\core\\indexes\\base.py:3621\u001b[0m, in \u001b[0;36mIndex.get_loc\u001b[1;34m(self, key, method, tolerance)\u001b[0m\n\u001b[0;32m   3620\u001b[0m \u001b[38;5;28;01mtry\u001b[39;00m:\n\u001b[1;32m-> 3621\u001b[0m     \u001b[38;5;28;01mreturn\u001b[39;00m \u001b[38;5;28;43mself\u001b[39;49m\u001b[38;5;241;43m.\u001b[39;49m\u001b[43m_engine\u001b[49m\u001b[38;5;241;43m.\u001b[39;49m\u001b[43mget_loc\u001b[49m\u001b[43m(\u001b[49m\u001b[43mcasted_key\u001b[49m\u001b[43m)\u001b[49m\n\u001b[0;32m   3622\u001b[0m \u001b[38;5;28;01mexcept\u001b[39;00m \u001b[38;5;167;01mKeyError\u001b[39;00m \u001b[38;5;28;01mas\u001b[39;00m err:\n",
      "File \u001b[1;32mD:\\0.handout\\anaconda3\\lib\\site-packages\\pandas\\_libs\\index.pyx:136\u001b[0m, in \u001b[0;36mpandas._libs.index.IndexEngine.get_loc\u001b[1;34m()\u001b[0m\n",
      "File \u001b[1;32mD:\\0.handout\\anaconda3\\lib\\site-packages\\pandas\\_libs\\index.pyx:163\u001b[0m, in \u001b[0;36mpandas._libs.index.IndexEngine.get_loc\u001b[1;34m()\u001b[0m\n",
      "File \u001b[1;32mpandas\\_libs\\hashtable_class_helper.pxi:5198\u001b[0m, in \u001b[0;36mpandas._libs.hashtable.PyObjectHashTable.get_item\u001b[1;34m()\u001b[0m\n",
      "File \u001b[1;32mpandas\\_libs\\hashtable_class_helper.pxi:5206\u001b[0m, in \u001b[0;36mpandas._libs.hashtable.PyObjectHashTable.get_item\u001b[1;34m()\u001b[0m\n",
      "\u001b[1;31mKeyError\u001b[0m: 'Column A'",
      "\nThe above exception was the direct cause of the following exception:\n",
      "\u001b[1;31mKeyError\u001b[0m                                  Traceback (most recent call last)",
      "Input \u001b[1;32mIn [10]\u001b[0m, in \u001b[0;36m<cell line: 1>\u001b[1;34m()\u001b[0m\n\u001b[1;32m----> 1\u001b[0m \u001b[43mdf\u001b[49m\u001b[43m[\u001b[49m\u001b[38;5;124;43m'\u001b[39;49m\u001b[38;5;124;43mColumn A\u001b[39;49m\u001b[38;5;124;43m'\u001b[39;49m\u001b[43m]\u001b[49m\n",
      "File \u001b[1;32mD:\\0.handout\\anaconda3\\lib\\site-packages\\pandas\\core\\frame.py:3505\u001b[0m, in \u001b[0;36mDataFrame.__getitem__\u001b[1;34m(self, key)\u001b[0m\n\u001b[0;32m   3503\u001b[0m \u001b[38;5;28;01mif\u001b[39;00m \u001b[38;5;28mself\u001b[39m\u001b[38;5;241m.\u001b[39mcolumns\u001b[38;5;241m.\u001b[39mnlevels \u001b[38;5;241m>\u001b[39m \u001b[38;5;241m1\u001b[39m:\n\u001b[0;32m   3504\u001b[0m     \u001b[38;5;28;01mreturn\u001b[39;00m \u001b[38;5;28mself\u001b[39m\u001b[38;5;241m.\u001b[39m_getitem_multilevel(key)\n\u001b[1;32m-> 3505\u001b[0m indexer \u001b[38;5;241m=\u001b[39m \u001b[38;5;28;43mself\u001b[39;49m\u001b[38;5;241;43m.\u001b[39;49m\u001b[43mcolumns\u001b[49m\u001b[38;5;241;43m.\u001b[39;49m\u001b[43mget_loc\u001b[49m\u001b[43m(\u001b[49m\u001b[43mkey\u001b[49m\u001b[43m)\u001b[49m\n\u001b[0;32m   3506\u001b[0m \u001b[38;5;28;01mif\u001b[39;00m is_integer(indexer):\n\u001b[0;32m   3507\u001b[0m     indexer \u001b[38;5;241m=\u001b[39m [indexer]\n",
      "File \u001b[1;32mD:\\0.handout\\anaconda3\\lib\\site-packages\\pandas\\core\\indexes\\base.py:3623\u001b[0m, in \u001b[0;36mIndex.get_loc\u001b[1;34m(self, key, method, tolerance)\u001b[0m\n\u001b[0;32m   3621\u001b[0m     \u001b[38;5;28;01mreturn\u001b[39;00m \u001b[38;5;28mself\u001b[39m\u001b[38;5;241m.\u001b[39m_engine\u001b[38;5;241m.\u001b[39mget_loc(casted_key)\n\u001b[0;32m   3622\u001b[0m \u001b[38;5;28;01mexcept\u001b[39;00m \u001b[38;5;167;01mKeyError\u001b[39;00m \u001b[38;5;28;01mas\u001b[39;00m err:\n\u001b[1;32m-> 3623\u001b[0m     \u001b[38;5;28;01mraise\u001b[39;00m \u001b[38;5;167;01mKeyError\u001b[39;00m(key) \u001b[38;5;28;01mfrom\u001b[39;00m \u001b[38;5;21;01merr\u001b[39;00m\n\u001b[0;32m   3624\u001b[0m \u001b[38;5;28;01mexcept\u001b[39;00m \u001b[38;5;167;01mTypeError\u001b[39;00m:\n\u001b[0;32m   3625\u001b[0m     \u001b[38;5;66;03m# If we have a listlike key, _check_indexing_error will raise\u001b[39;00m\n\u001b[0;32m   3626\u001b[0m     \u001b[38;5;66;03m#  InvalidIndexError. Otherwise we fall through and re-raise\u001b[39;00m\n\u001b[0;32m   3627\u001b[0m     \u001b[38;5;66;03m#  the TypeError.\u001b[39;00m\n\u001b[0;32m   3628\u001b[0m     \u001b[38;5;28mself\u001b[39m\u001b[38;5;241m.\u001b[39m_check_indexing_error(key)\n",
      "\u001b[1;31mKeyError\u001b[0m: 'Column A'"
     ]
    }
   ],
   "source": [
    "# 공백 때문에 KeyError\n",
    "df['Column A']"
   ]
  },
  {
   "cell_type": "code",
   "execution_count": 12,
   "id": "06ddf7b0",
   "metadata": {},
   "outputs": [
    {
     "data": {
      "text/plain": [
       "Index(['Column A', 'Column B'], dtype='object')"
      ]
     },
     "execution_count": 12,
     "metadata": {},
     "output_type": "execute_result"
    }
   ],
   "source": [
    "# 컬럼명 공백 제거\n",
    "df.columns.str.strip()"
   ]
  },
  {
   "cell_type": "code",
   "execution_count": 13,
   "id": "f3eb6e25",
   "metadata": {},
   "outputs": [
    {
     "data": {
      "text/plain": [
       "Index(['   column a', 'column b  '], dtype='object')"
      ]
     },
     "execution_count": 13,
     "metadata": {},
     "output_type": "execute_result"
    }
   ],
   "source": [
    "# 컬럼명 소문자로 변경\n",
    "df.columns.str.lower()"
   ]
  },
  {
   "cell_type": "code",
   "execution_count": 14,
   "id": "fe8b54cb",
   "metadata": {},
   "outputs": [
    {
     "data": {
      "text/plain": [
       "Index(['column_a', 'column_b'], dtype='object')"
      ]
     },
     "execution_count": 14,
     "metadata": {},
     "output_type": "execute_result"
    }
   ],
   "source": [
    "# 컬럼명 양쪽 공백 제거, 전체 소문자, 컬럼명 사이의 공백은 _ 대체 ==> column_a\n",
    "\n",
    "df.columns = df.columns.str.strip().str.lower().str.replace(\" \",\"_\")\n",
    "df.columns"
   ]
  },
  {
   "cell_type": "markdown",
   "id": "2cb7eb51",
   "metadata": {},
   "source": [
    "#### 3) split() : 문자열 자르기"
   ]
  },
  {
   "cell_type": "code",
   "execution_count": 15,
   "id": "7345597a",
   "metadata": {},
   "outputs": [
    {
     "data": {
      "text/plain": [
       "0    ha_a_b\n",
       "1    hi_c_d\n",
       "2       NaN\n",
       "3    ho_e_f\n",
       "dtype: object"
      ]
     },
     "execution_count": 15,
     "metadata": {},
     "output_type": "execute_result"
    }
   ],
   "source": [
    "# 생성\n",
    "ser = pd.Series(['ha_a_b', 'hi_c_d', np.nan, 'ho_e_f'])\n",
    "ser"
   ]
  },
  {
   "cell_type": "code",
   "execution_count": 16,
   "id": "a8e2bd68",
   "metadata": {},
   "outputs": [
    {
     "data": {
      "text/plain": [
       "0    [ha, a, b]\n",
       "1    [hi, c, d]\n",
       "2           NaN\n",
       "3    [ho, e, f]\n",
       "dtype: object"
      ]
     },
     "execution_count": 16,
     "metadata": {},
     "output_type": "execute_result"
    }
   ],
   "source": [
    "# 무조건 리스트 구조로 돌아옴\n",
    "ser.str.split(\"_\")"
   ]
  },
  {
   "cell_type": "markdown",
   "id": "bdc563d1",
   "metadata": {},
   "source": [
    "* **expand=True** 결과를 데이터 프레임으로 돌려줌"
   ]
  },
  {
   "cell_type": "code",
   "execution_count": 17,
   "id": "604a6dbf",
   "metadata": {
    "scrolled": true
   },
   "outputs": [
    {
     "data": {
      "text/html": [
       "<div>\n",
       "<style scoped>\n",
       "    .dataframe tbody tr th:only-of-type {\n",
       "        vertical-align: middle;\n",
       "    }\n",
       "\n",
       "    .dataframe tbody tr th {\n",
       "        vertical-align: top;\n",
       "    }\n",
       "\n",
       "    .dataframe thead th {\n",
       "        text-align: right;\n",
       "    }\n",
       "</style>\n",
       "<table border=\"1\" class=\"dataframe\">\n",
       "  <thead>\n",
       "    <tr style=\"text-align: right;\">\n",
       "      <th></th>\n",
       "      <th>0</th>\n",
       "      <th>1</th>\n",
       "      <th>2</th>\n",
       "    </tr>\n",
       "  </thead>\n",
       "  <tbody>\n",
       "    <tr>\n",
       "      <th>0</th>\n",
       "      <td>ha</td>\n",
       "      <td>a</td>\n",
       "      <td>b</td>\n",
       "    </tr>\n",
       "    <tr>\n",
       "      <th>1</th>\n",
       "      <td>hi</td>\n",
       "      <td>c</td>\n",
       "      <td>d</td>\n",
       "    </tr>\n",
       "    <tr>\n",
       "      <th>2</th>\n",
       "      <td>NaN</td>\n",
       "      <td>NaN</td>\n",
       "      <td>NaN</td>\n",
       "    </tr>\n",
       "    <tr>\n",
       "      <th>3</th>\n",
       "      <td>ho</td>\n",
       "      <td>e</td>\n",
       "      <td>f</td>\n",
       "    </tr>\n",
       "  </tbody>\n",
       "</table>\n",
       "</div>"
      ],
      "text/plain": [
       "     0    1    2\n",
       "0   ha    a    b\n",
       "1   hi    c    d\n",
       "2  NaN  NaN  NaN\n",
       "3   ho    e    f"
      ]
     },
     "execution_count": 17,
     "metadata": {},
     "output_type": "execute_result"
    }
   ],
   "source": [
    "ser.str.split(\"_\",expand=True)"
   ]
  },
  {
   "cell_type": "markdown",
   "id": "cdc0af3b",
   "metadata": {},
   "source": [
    "#### 4) replace()"
   ]
  },
  {
   "cell_type": "code",
   "execution_count": 18,
   "id": "367e4379",
   "metadata": {},
   "outputs": [
    {
     "data": {
      "text/plain": [
       "0        Suho\n",
       "1        bAAa\n",
       "2         NaN\n",
       "3    cute_dog\n",
       "dtype: object"
      ]
     },
     "execution_count": 18,
     "metadata": {},
     "output_type": "execute_result"
    }
   ],
   "source": [
    "# 생성\n",
    "ser = pd.Series(['Suho','bAAa',np.nan,'cute_dog'])\n",
    "ser"
   ]
  },
  {
   "cell_type": "code",
   "execution_count": 19,
   "id": "f387433f",
   "metadata": {},
   "outputs": [
    {
     "data": {
      "text/plain": [
       "0        Suho\n",
       "1       ***Aa\n",
       "2         NaN\n",
       "3    cute_***\n",
       "dtype: object"
      ]
     },
     "execution_count": 19,
     "metadata": {},
     "output_type": "execute_result"
    }
   ],
   "source": [
    "ser.str.replace('^.a|dog','***',case=False,regex=True)"
   ]
  },
  {
   "cell_type": "markdown",
   "id": "25b10e19",
   "metadata": {},
   "source": [
    "- ^는 입력라인의 시작\n",
    "- .a 는 맨 첫 문자를 포함하고 a로 끝나는 부분을 매칭\n",
    "- | or 의 의미\n",
    "- dog에 해당하는 부분 매칭\n",
    "- case=False 대소문자 구분 안함\n",
    "- regex=True 전달된 패턴이 정규식"
   ]
  },
  {
   "cell_type": "markdown",
   "id": "2261148b",
   "metadata": {},
   "source": [
    "#### 5) cat : 텍스트 이어 붙이기 "
   ]
  },
  {
   "cell_type": "code",
   "execution_count": 20,
   "id": "0809d870",
   "metadata": {},
   "outputs": [
    {
     "data": {
      "text/plain": [
       "0    ha\n",
       "1    hi\n",
       "2    ho\n",
       "dtype: object"
      ]
     },
     "execution_count": 20,
     "metadata": {},
     "output_type": "execute_result"
    }
   ],
   "source": [
    "# 생성\n",
    "ser = pd.Series(['ha','hi','ho'])\n",
    "ser"
   ]
  },
  {
   "cell_type": "code",
   "execution_count": 21,
   "id": "cc196bc4",
   "metadata": {},
   "outputs": [
    {
     "data": {
      "text/plain": [
       "'ha , hi , ho'"
      ]
     },
     "execution_count": 21,
     "metadata": {},
     "output_type": "execute_result"
    }
   ],
   "source": [
    "# ,로 연결\n",
    "ser.str.cat(sep = \" , \")"
   ]
  },
  {
   "cell_type": "code",
   "execution_count": 22,
   "id": "6c73d913",
   "metadata": {},
   "outputs": [
    {
     "data": {
      "text/plain": [
       "'hahiho'"
      ]
     },
     "execution_count": 22,
     "metadata": {},
     "output_type": "execute_result"
    }
   ],
   "source": [
    "# 구분자 없이 연결\n",
    "ser.str.cat()"
   ]
  },
  {
   "cell_type": "markdown",
   "id": "ce489df6",
   "metadata": {},
   "source": [
    "* **손실값이 있다면 연결 안함**"
   ]
  },
  {
   "cell_type": "code",
   "execution_count": 23,
   "id": "76f2f8a1",
   "metadata": {},
   "outputs": [
    {
     "data": {
      "text/plain": [
       "0     ha\n",
       "1    NaN\n",
       "2     ho\n",
       "dtype: object"
      ]
     },
     "execution_count": 23,
     "metadata": {},
     "output_type": "execute_result"
    }
   ],
   "source": [
    "# 생성\n",
    "ser = pd.Series(['ha',np.nan,'ho'])\n",
    "ser"
   ]
  },
  {
   "cell_type": "code",
   "execution_count": 24,
   "id": "f38bfba3",
   "metadata": {},
   "outputs": [
    {
     "data": {
      "text/plain": [
       "'ha , ho'"
      ]
     },
     "execution_count": 24,
     "metadata": {},
     "output_type": "execute_result"
    }
   ],
   "source": [
    "# 없는 값은 출력되지 않음\n",
    "ser.str.cat(sep = \" , \")"
   ]
  },
  {
   "cell_type": "code",
   "execution_count": 25,
   "id": "80c0a52c",
   "metadata": {},
   "outputs": [
    {
     "data": {
      "text/plain": [
       "'ha , * , ho'"
      ]
     },
     "execution_count": 25,
     "metadata": {},
     "output_type": "execute_result"
    }
   ],
   "source": [
    "# na_rep : 없는 값을 대체 \n",
    "ser.str.cat(sep = \" , \", na_rep=\"*\")"
   ]
  },
  {
   "cell_type": "markdown",
   "id": "ac2f319a",
   "metadata": {},
   "source": [
    "### [실습2] 일기 형식의 데이터 가공"
   ]
  },
  {
   "cell_type": "code",
   "execution_count": 27,
   "id": "e714ec90",
   "metadata": {},
   "outputs": [
    {
     "data": {
      "text/html": [
       "<div>\n",
       "<style scoped>\n",
       "    .dataframe tbody tr th:only-of-type {\n",
       "        vertical-align: middle;\n",
       "    }\n",
       "\n",
       "    .dataframe tbody tr th {\n",
       "        vertical-align: top;\n",
       "    }\n",
       "\n",
       "    .dataframe thead th {\n",
       "        text-align: right;\n",
       "    }\n",
       "</style>\n",
       "<table border=\"1\" class=\"dataframe\">\n",
       "  <thead>\n",
       "    <tr style=\"text-align: right;\">\n",
       "      <th></th>\n",
       "      <th>schedule</th>\n",
       "    </tr>\n",
       "  </thead>\n",
       "  <tbody>\n",
       "    <tr>\n",
       "      <th>0</th>\n",
       "      <td>1st_seq : getting up at 05:45am</td>\n",
       "    </tr>\n",
       "    <tr>\n",
       "      <th>1</th>\n",
       "      <td>2nd_seq : swimming from 06:00 to 07:00</td>\n",
       "    </tr>\n",
       "    <tr>\n",
       "      <th>2</th>\n",
       "      <td>3rd_seq : My morning food is American style</td>\n",
       "    </tr>\n",
       "    <tr>\n",
       "      <th>3</th>\n",
       "      <td>4th_seq : Writing some proposal from 02:00pm t...</td>\n",
       "    </tr>\n",
       "    <tr>\n",
       "      <th>4</th>\n",
       "      <td>5th_seq : Arriving at JongGak at 07:00pm</td>\n",
       "    </tr>\n",
       "    <tr>\n",
       "      <th>5</th>\n",
       "      <td>6th_seq : Fun with friends enjoy beer till 09:...</td>\n",
       "    </tr>\n",
       "    <tr>\n",
       "      <th>6</th>\n",
       "      <td>7th_seq : My house at 10:30pm and sleeping by ...</td>\n",
       "    </tr>\n",
       "  </tbody>\n",
       "</table>\n",
       "</div>"
      ],
      "text/plain": [
       "                                            schedule\n",
       "0                    1st_seq : getting up at 05:45am\n",
       "1             2nd_seq : swimming from 06:00 to 07:00\n",
       "2        3rd_seq : My morning food is American style\n",
       "3  4th_seq : Writing some proposal from 02:00pm t...\n",
       "4           5th_seq : Arriving at JongGak at 07:00pm\n",
       "5  6th_seq : Fun with friends enjoy beer till 09:...\n",
       "6  7th_seq : My house at 10:30pm and sleeping by ..."
      ]
     },
     "execution_count": 27,
     "metadata": {},
     "output_type": "execute_result"
    }
   ],
   "source": [
    "# 생성\n",
    "day_plan = [\n",
    "    \"1st_seq : getting up at 05:45am\",\n",
    "    \"2nd_seq : swimming from 06:00 to 07:00\",\n",
    "    \"3rd_seq : My morning food is American style\",\n",
    "    \"4th_seq : Writing some proposal from 02:00pm to 06:00pm\",\n",
    "    \"5th_seq : Arriving at JongGak at 07:00pm\",\n",
    "    \"6th_seq : Fun with friends enjoy beer till 09:30am\",\n",
    "    \"7th_seq : My house at 10:30pm and sleeping by 12:00pm\"\n",
    "]\n",
    "df = pd.DataFrame(day_plan, columns=['schedule'])\n",
    "df"
   ]
  },
  {
   "cell_type": "code",
   "execution_count": 28,
   "id": "a46b9ce2",
   "metadata": {},
   "outputs": [
    {
     "data": {
      "text/plain": [
       "0               [1st_seq, :, getting, up, at, 05:45am]\n",
       "1       [2nd_seq, :, swimming, from, 06:00, to, 07:00]\n",
       "2    [3rd_seq, :, My, morning, food, is, American, ...\n",
       "3    [4th_seq, :, Writing, some, proposal, from, 02...\n",
       "4     [5th_seq, :, Arriving, at, JongGak, at, 07:00pm]\n",
       "5    [6th_seq, :, Fun, with, friends, enjoy, beer, ...\n",
       "6    [7th_seq, :, My, house, at, 10:30pm, and, slee...\n",
       "Name: schedule, dtype: object"
      ]
     },
     "execution_count": 28,
     "metadata": {},
     "output_type": "execute_result"
    }
   ],
   "source": [
    "# split() : 기준을 주지 않으면 공백기준\n",
    "df['schedule'].str.split()"
   ]
  },
  {
   "cell_type": "code",
   "execution_count": 30,
   "id": "466320c5",
   "metadata": {},
   "outputs": [
    {
     "data": {
      "text/plain": [
       "0     6\n",
       "1     7\n",
       "2     8\n",
       "3     9\n",
       "4     7\n",
       "5     9\n",
       "6    10\n",
       "Name: schedule, dtype: int64"
      ]
     },
     "execution_count": 30,
     "metadata": {},
     "output_type": "execute_result"
    }
   ],
   "source": [
    "# len : 문자열의 수 파악\n",
    "# 공백기준으로 분할된 문자열의 수 파악\n",
    "df['schedule'].str.split().str.len()"
   ]
  },
  {
   "cell_type": "markdown",
   "id": "05153d81",
   "metadata": {},
   "source": [
    "#### contains() : 특정 문자열을 가지고 있는지 확인"
   ]
  },
  {
   "cell_type": "code",
   "execution_count": 31,
   "id": "1738fd58",
   "metadata": {},
   "outputs": [
    {
     "data": {
      "text/plain": [
       "0    False\n",
       "1    False\n",
       "2     True\n",
       "3    False\n",
       "4    False\n",
       "5    False\n",
       "6     True\n",
       "Name: schedule, dtype: bool"
      ]
     },
     "execution_count": 31,
     "metadata": {},
     "output_type": "execute_result"
    }
   ],
   "source": [
    "df['schedule'].str.contains('My')"
   ]
  },
  {
   "cell_type": "markdown",
   "id": "63dd7f40",
   "metadata": {},
   "source": [
    "#### count()"
   ]
  },
  {
   "cell_type": "code",
   "execution_count": 32,
   "id": "80b75b37",
   "metadata": {},
   "outputs": [
    {
     "data": {
      "text/plain": [
       "0    5\n",
       "1    9\n",
       "2    1\n",
       "3    9\n",
       "4    5\n",
       "5    5\n",
       "6    9\n",
       "Name: schedule, dtype: int64"
      ]
     },
     "execution_count": 32,
     "metadata": {},
     "output_type": "execute_result"
    }
   ],
   "source": [
    "# 숫자가 몇 개 있는지 확인\n",
    "# \\ 정규식\n",
    "# \\d == [0-9]\n",
    "df['schedule'].str.count(\"\\d\")"
   ]
  },
  {
   "cell_type": "markdown",
   "id": "9c993a75",
   "metadata": {},
   "source": [
    "#### findall()"
   ]
  },
  {
   "cell_type": "code",
   "execution_count": 33,
   "id": "5e0c5896",
   "metadata": {},
   "outputs": [
    {
     "data": {
      "text/plain": [
       "0                [1, 0, 5, 4, 5]\n",
       "1    [2, 0, 6, 0, 0, 0, 7, 0, 0]\n",
       "2                            [3]\n",
       "3    [4, 0, 2, 0, 0, 0, 6, 0, 0]\n",
       "4                [5, 0, 7, 0, 0]\n",
       "5                [6, 0, 9, 3, 0]\n",
       "6    [7, 1, 0, 3, 0, 1, 2, 0, 0]\n",
       "Name: schedule, dtype: object"
      ]
     },
     "execution_count": 33,
     "metadata": {},
     "output_type": "execute_result"
    }
   ],
   "source": [
    "# 매칭되는 부분을 리스트로 출력\n",
    "df['schedule'].str.findall(\"\\d\")"
   ]
  },
  {
   "cell_type": "code",
   "execution_count": 34,
   "id": "26ec2421",
   "metadata": {},
   "outputs": [
    {
     "data": {
      "text/plain": [
       "0              [(05, 45)]\n",
       "1    [(06, 00), (07, 00)]\n",
       "2                      []\n",
       "3    [(02, 00), (06, 00)]\n",
       "4              [(07, 00)]\n",
       "5              [(09, 30)]\n",
       "6    [(10, 30), (12, 00)]\n",
       "Name: schedule, dtype: object"
      ]
     },
     "execution_count": 34,
     "metadata": {},
     "output_type": "execute_result"
    }
   ],
   "source": [
    "# 시간에 해당되는 숫자만 출력.\n",
    "# 시 분 --> 패턴 만들기. 07:00\n",
    "df['schedule'].str.findall(\"(\\d\\d):(\\d\\d)\")"
   ]
  },
  {
   "cell_type": "code",
   "execution_count": null,
   "id": "f26b381e",
   "metadata": {},
   "outputs": [],
   "source": []
  }
 ],
 "metadata": {
  "kernelspec": {
   "display_name": "Python 3 (ipykernel)",
   "language": "python",
   "name": "python3"
  },
  "language_info": {
   "codemirror_mode": {
    "name": "ipython",
    "version": 3
   },
   "file_extension": ".py",
   "mimetype": "text/x-python",
   "name": "python",
   "nbconvert_exporter": "python",
   "pygments_lexer": "ipython3",
   "version": "3.9.12"
  }
 },
 "nbformat": 4,
 "nbformat_minor": 5
}
