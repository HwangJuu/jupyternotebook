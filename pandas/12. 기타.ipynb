{
 "cells": [
  {
   "cell_type": "markdown",
   "id": "ecab4e48",
   "metadata": {},
   "source": [
    "### 데이터 프레임 다른 포맷 형식으로 저장"
   ]
  },
  {
   "cell_type": "markdown",
   "id": "d06f2e0c",
   "metadata": {},
   "source": [
    "<img src=\"https://pandas.pydata.org/docs/_images/02_io_readwrite.svg\">"
   ]
  },
  {
   "cell_type": "code",
   "execution_count": 1,
   "id": "5fdb1316",
   "metadata": {},
   "outputs": [],
   "source": [
    "import pandas as pd"
   ]
  },
  {
   "cell_type": "code",
   "execution_count": 2,
   "id": "cd0756df",
   "metadata": {},
   "outputs": [
    {
     "data": {
      "text/html": [
       "<div>\n",
       "<style scoped>\n",
       "    .dataframe tbody tr th:only-of-type {\n",
       "        vertical-align: middle;\n",
       "    }\n",
       "\n",
       "    .dataframe tbody tr th {\n",
       "        vertical-align: top;\n",
       "    }\n",
       "\n",
       "    .dataframe thead th {\n",
       "        text-align: right;\n",
       "    }\n",
       "</style>\n",
       "<table border=\"1\" class=\"dataframe\">\n",
       "  <thead>\n",
       "    <tr style=\"text-align: right;\">\n",
       "      <th></th>\n",
       "      <th>c0</th>\n",
       "      <th>c1</th>\n",
       "    </tr>\n",
       "  </thead>\n",
       "  <tbody>\n",
       "    <tr>\n",
       "      <th>0</th>\n",
       "      <td>1</td>\n",
       "      <td>4</td>\n",
       "    </tr>\n",
       "    <tr>\n",
       "      <th>1</th>\n",
       "      <td>2</td>\n",
       "      <td>5</td>\n",
       "    </tr>\n",
       "    <tr>\n",
       "      <th>2</th>\n",
       "      <td>3</td>\n",
       "      <td>6</td>\n",
       "    </tr>\n",
       "  </tbody>\n",
       "</table>\n",
       "</div>"
      ],
      "text/plain": [
       "   c0  c1\n",
       "0   1   4\n",
       "1   2   5\n",
       "2   3   6"
      ]
     },
     "execution_count": 2,
     "metadata": {},
     "output_type": "execute_result"
    }
   ],
   "source": [
    "# 생성\n",
    "dict_data = {\n",
    "    \"c0\" : [1,2,3],\n",
    "    \"c1\" : [4,5,6]\n",
    "}\n",
    "df = pd.DataFrame(dict_data)\n",
    "df"
   ]
  },
  {
   "cell_type": "code",
   "execution_count": 4,
   "id": "6683ce3f",
   "metadata": {},
   "outputs": [],
   "source": [
    "# csv 파일로 만들기\n",
    "df.to_csv(\"../data/df1.csv\", index=False)"
   ]
  },
  {
   "cell_type": "code",
   "execution_count": 5,
   "id": "344457d3",
   "metadata": {},
   "outputs": [],
   "source": [
    "# 엑셀 파일 저장\n",
    "# 판다스에 기본으로 openpy가 있음\n",
    "df.to_excel(\"../data/df1.xlsx\")"
   ]
  },
  {
   "cell_type": "markdown",
   "id": "2130694f",
   "metadata": {},
   "source": [
    "### Youtube 댓글 크롤링 후 데이터 프레임 생성"
   ]
  },
  {
   "cell_type": "code",
   "execution_count": 6,
   "id": "b3a449a9",
   "metadata": {},
   "outputs": [
    {
     "ename": "ModuleNotFoundError",
     "evalue": "No module named 'selenium'",
     "output_type": "error",
     "traceback": [
      "\u001b[1;31m---------------------------------------------------------------------------\u001b[0m",
      "\u001b[1;31mModuleNotFoundError\u001b[0m                       Traceback (most recent call last)",
      "Input \u001b[1;32mIn [6]\u001b[0m, in \u001b[0;36m<cell line: 2>\u001b[1;34m()\u001b[0m\n\u001b[0;32m      1\u001b[0m \u001b[38;5;66;03m# 셀레니움\u001b[39;00m\n\u001b[1;32m----> 2\u001b[0m \u001b[38;5;28;01mfrom\u001b[39;00m \u001b[38;5;21;01mselenium\u001b[39;00m \u001b[38;5;28;01mimport\u001b[39;00m webdriver\n",
      "\u001b[1;31mModuleNotFoundError\u001b[0m: No module named 'selenium'"
     ]
    }
   ],
   "source": [
    "# 셀레니움\n",
    "from selenium import webdriver"
   ]
  },
  {
   "cell_type": "code",
   "execution_count": 9,
   "id": "b170eacd",
   "metadata": {},
   "outputs": [],
   "source": [
    "# ! pip install selenium\n",
    "# 설치 후 실행\n",
    "from selenium import webdriver\n",
    "from bs4 import BeautifulSoup\n",
    "import time"
   ]
  },
  {
   "cell_type": "code",
   "execution_count": null,
   "id": "afdb7c84",
   "metadata": {},
   "outputs": [],
   "source": [
    "# from selenium import webdriver\n",
    "# from selenium.webdriver.chrome.service import Service\n",
    "# from webdriver_manager.chrome import ChromeDriverManager\n",
    "\n",
    "# # pip install webdriver-manager\n",
    "# # 현재 브라우저 버전에 맞는 웹드라이버를 다운로드 받지 않아도 됨\n",
    "\n",
    "# browser = driver = webdriver.Chrome(service=Service(ChromeDriverManager().install()))\n",
    "# browser.get('주소')"
   ]
  },
  {
   "cell_type": "code",
   "execution_count": 28,
   "id": "6115abfc",
   "metadata": {},
   "outputs": [
    {
     "name": "stderr",
     "output_type": "stream",
     "text": [
      "C:\\Users\\zoiia\\AppData\\Local\\Temp\\ipykernel_41932\\3591167398.py:4: DeprecationWarning: executable_path has been deprecated, please pass in a Service object\n",
      "  browser = webdriver.Chrome('../chromedriver')\n"
     ]
    }
   ],
   "source": [
    "url = 'https://www.youtube.com/watch?v=HosW0gulISQ'\n",
    "\n",
    "# 경로 지정 필요\n",
    "browser = webdriver.Chrome('../chromedriver')\n",
    "browser.get(url)\n",
    "\n",
    "time.sleep(3)"
   ]
  },
  {
   "cell_type": "markdown",
   "id": "6a35348d",
   "metadata": {},
   "source": [
    "#### [참고] 전체 스크롤의 크기 확인하기"
   ]
  },
  {
   "cell_type": "code",
   "execution_count": 14,
   "id": "5d07ff3e",
   "metadata": {},
   "outputs": [
    {
     "data": {
      "text/plain": [
       "2268"
      ]
     },
     "execution_count": 14,
     "metadata": {},
     "output_type": "execute_result"
    }
   ],
   "source": [
    "prev_height = browser.execute_script(\"return document.documentElement.scrollHeight\")\n",
    "prev_height"
   ]
  },
  {
   "cell_type": "code",
   "execution_count": 29,
   "id": "54de3efa",
   "metadata": {},
   "outputs": [],
   "source": [
    "# 2초에 한번씩 스크롤 이동\n",
    "interval = 5\n",
    "# 현재 문서 높이 가져와서 저장\n",
    "prev_height = browser.execute_script(\"return document.documentElement.scrollHeight\")\n",
    "\n",
    "while True:\n",
    "    # 스크롤 이동\n",
    "    browser.execute_script(\"window.scrollTo(0,document.documentElement.scrollHeight)\")\n",
    "    # 페이지 로딩 대기\n",
    "    time.sleep(interval)\n",
    "\n",
    "    # 스크롤이 진행된 후 현재 문서 높이\n",
    "    curr_height = browser.execute_script(\"return document.documentElement.scrollHeight\")\n",
    "\n",
    "    if curr_height == prev_height:\n",
    "        break\n",
    "    prev_height = curr_height"
   ]
  },
  {
   "cell_type": "code",
   "execution_count": 33,
   "id": "2524f7cc",
   "metadata": {},
   "outputs": [],
   "source": [
    "soup = BeautifulSoup(browser.page_source,\"lxml\")\n",
    "# soup.text"
   ]
  },
  {
   "cell_type": "code",
   "execution_count": 36,
   "id": "501cbf8c",
   "metadata": {},
   "outputs": [],
   "source": [
    "# 댓글 ID와 내용 태그 확인\n",
    "\n",
    "id_list = soup.select(\"div#header-author > h3 > #author-text > span\")\n",
    "comment_list = soup.select(\"yt-formatted-string#content-text\")"
   ]
  },
  {
   "cell_type": "code",
   "execution_count": 37,
   "id": "e8e185f8",
   "metadata": {},
   "outputs": [
    {
     "name": "stdout",
     "output_type": "stream",
     "text": [
      "hwnngbo황보 이 노래 처음 나왔을 때가 저 고1때였나, 친구네 집 아파트 옥상에서 들었는데, 고요한 밤에 이 노래 틀어놓고 있으니까 세상의 가장 높은 곳에 올라서 있는 느낌이라서 엄청 웅장했었어요 친구들도 다 소름돋는다면서. 이거 나중에 꼭 다시 한 번 더 높은곳에서 들어야겠다 생각했었어요.\n",
      "몇 년뒤에 배낭여행으로 네팔 안나푸르나 트레킹 하면서 고산병으로 숨도 힘들게 쉬고 두통도 달며 올라갔어요. 그리고 도착한 ABC(베이스캠프)에서 새벽에 일어나 산 봉우리들을 마주보고 섰을 때 이 노래를 딱 틀었죠. 일출이 오면서 구름은 걷히고, 이어폰으로 내 귀에 노래가 흘러나오고, 천천히 주변을 둘러보는데,, 진짜 오감이 살아숨쉬는 느낌 받았었어요. 지금 이 순간은 내가 이 세상의 정복자다 이런 느낌 딱,,,\n",
      "Ryan Chang 단지 방구석에서 좁아터진 24인치모니터로 봐도 가슴이 터질지경인데 직관하신 분들은 창공을 날았겠군요. 개인적으로 정말 좋아라하는 뮤비중에 하나가 됐네요. 번역자님께 감사합니다.\n",
      "임한결 데뷔할 때만 해도 20대였던 크리스와 멤버들..\n",
      "어느덧 벌써 40이 넘어가셨네..\n",
      "진짜 가장 멋진 청춘을 보낸 듯..\n",
      "운동하는 작은 친구 \"성공한 사람에게는 추억을\"\n",
      "\"성공할려는 자에게는 용기를\"\n",
      "(뇌절 멈춰!!!)\n",
      "공리나 내한왔을때 광클해서 펜스 둘째줄 쯤에서 봤는데.. 인생운 다쓴듯. 코로나 시국이 올줄 상상도 못했던 시절... 언젠가 한국에서 또 viva la vida 떼창할수 있길\n",
      "BS BS 시험 공부 안했는데 만점 받을수 있을것만같은 자신감을 주는 노래.\n",
      "화난 영상미 미쳤다 영화의 한 부분 같네 ㄷㄷ\n",
      "번역가님의 자막도 한 수인듯\n",
      "basim joe 우한바이러스 종식 선언날 전세계 라이브 했으면 좋겠다 진짜....인류의승리 엔딩 크레딧송\n",
      "냥아치절전 와 진짜 영화 한장면 넣어놓은거 같음..전율이 미쳤음...와...소름돋는다\n",
      "번역좌 10년 넘게 들어도 질리지 않는 명곡...\n",
      "현현 진짜 함성소리 섞은거로 리믹스 멜론에 만들어줘야함\n",
      "nostalgia 정시 원서접수하고 한참 긴장되고 힘들때\n",
      "원하던 대학 합격 문자 통보 받고\n",
      "마침 지나던 핸드폰 가게에서 이 노래가 흘러나오더라..\n",
      "가만히 멈춰서서 노래듣는데 어찌나 황홀하던지\n",
      "나도 모르게 눈물이 나왔었지..\n",
      "추억이네 이젠\n",
      "truwiz La 나중에 꼭 콜드플레이의 영화가 나왔으면 좋겠다.\n",
      "마지막 장면을 viva la vida를 이런식으로 연출하는거지..캬...생각만해도...그때까지 꼭 살아야겠다 ㄹㅇ\n",
      "동녘동녘 정말 대단한게 북소리 정도는 mr로 깔아둘만 한데 끝까지 라이브 고집해서 이정도로 웅장하게 들리는 듯하다\n",
      "허서형 진짜 가슴이 웅장해진다. 저정도 떼창을 무대에서 들을 거 생각하면 진짜 소름돋는다.\n",
      "강선희 대단해!!40대에 저런 열정과 에너지가 넘치는 멋진 콜드플레이!!\n",
      "•놀라면우는고양이 많은 노래들을 들으며 눈물이 끊이지 않은적은 정말 많았지만 방금 이 노래를 처음 들었을때처럼 소름이 끊이지 않은적은 진짜 처음임. 노래로 최면을 건건지 진짜 내가 저 무대에 서있는것처럼 가슴에서 웅장함을 느끼고 저 사람에게 이입을해서 무대를 즐기는듯한 느낌이 들었음. 이걸 쓰는 와중에도 온몸에 소름이 가시질 않음.\n",
      "호수 웅장해진다….다시 이런공연을 보는 날이 오기를 제발~~~\n",
      "박예진 1:51 왕관을 내려놓는  퍼포먼스 진짜 지렸다\n",
      "이승민 I used to rule the world \n",
      "Seas would rise when I gave the word \n",
      "Now in the morning, I sleep alone \n",
      "Sweep the streets I used to own \n",
      "I used to roll the dice \n",
      "Feel the fear in my enemy's eyes \n",
      "Listen as the crowd would sing \n",
      "Now the old king is dead! Long live the king! \n",
      "One minute I held the key \n",
      "Next the walls were closed on me \n",
      "And I discovered that my castles stand \n",
      "Upon pillars of salt and pillars of sand \n",
      "I hear Jerusalem bells are ringing \n",
      "Roman Cavalry choirs are singing \n",
      "Be my mirror, my sword and shield \n",
      "My missionaries in a foreign field \n",
      "For some reason I can't explain \n",
      "Once you go there was never, never a honest word \n",
      "And that was when I ruled the world \n",
      "It was a wicked and wild wind \n",
      "Blew down the doors to let me in \n",
      "Shattered windows and the sound of drums \n",
      "People couldn't believe what I'd become \n",
      "Revolutionaries wait \n",
      "For my head on a silver plate \n",
      "Just a puppet on a lonely string \n",
      "Oh, who would ever want to be king? \n",
      "I hear Jerusalem bells are ringing \n",
      "Roman Calvary choirs are singing \n",
      "Be my mirror, my sword and shield \n",
      "My missionaries in a foreign field \n",
      "For some reason I can't explain \n",
      "I know Saint Peter won't call my name \n",
      "Never an honest word \n",
      "But that was when I ruled the world \n",
      "Oh, oh, oh, oh, oh \n",
      "I hear Jerusalem bells are ringing \n",
      "Roman Calvary choirs are singing \n",
      "Be my mirror, my sword and shield \n",
      "My missionaries in a foreign field \n",
      "For some reason I can't explain \n",
      "I know Saint Peter won't call my name \n",
      "Never an honest word \n",
      "But that was when I ruled the world\n",
      "Hs C 진짜  저  콘서트안에서 웅장한 음악 악기    소리를 듣고    많은  관객들과 호흡하면서  즐기던날이\n",
      "이렇게  슬프게 보이는건 처음이네요,  \n",
      "진짜 엄청 신나는 문화인데\n",
      "icebear 시대가 변해도 영원한 명곡\n",
      "아에이 진짜 대머리 아저씨 대단한게 머리는 다 놓쳤으면서 박자는 안놓쳐\n",
      "토끼웅냠냠 이렇게 신나는데 그 감정을 조절하고 저렇게 노래를 부른다는게 대단하다\n",
      "by_window Viva La Vida는 아무리 들어도 소름돋고 경이롭다..진짜..\n",
      "손주훈 어쩌다 듣데 된 노래인데 콜드플레이 노래도 굉장히 중독성있네요. 노래하시는 분도 멋있고 드럼치시는 분도 멋있네여 ㅎ\n",
      "다른 노래들도 들어봐야겠네요~\n",
      "eunseo08 joe 콜드플레이의 콘서트 영상을 보니 가슴이 뛰네요. 다시 내한해줬으면 좋겠습니다. 이 노래는 다시 들어도 명곡인것같아요\n",
      "Pace_7 도입부만 들어도 가슴이 뛰는 명곡\n",
      "Romi JM L 최고의 밴드\n",
      "마약도 안하며 가치관이 건전한\n",
      "이 밴드를 사랑합니다 💜\n",
      "띵 개인적인 사정으로 인해 요새 우울한 기분과 바닥친 자존감때문에 힘들어하고 있었는데 이 노래를 들으면서 한결 자존감에 생기가 불어든 것 같습니다! 감사해요\n",
      "The Chef 진짜 저런 슈퍼스타가 왜 우울증에 걸리는지 알겠다...\n",
      "화면으로만 봐도 엄청 벅차오르는데\n",
      "저 무대에서의 현장감은 어떤 것과도 비교가 안된당\n",
      "무대에서 내려와 집에 가는 길의 공허함은 견디기 힘들 듯...\n",
      "My friend DADA 진짜 가슴까지 뻥 뚫리는 기분 너무 멋있음\n",
      "가사번역은아리송 진짜 천잰가..? 가사는 절망인데 멜로디가 희망\n",
      "와.. . 적절하게 믹스매치한게 이리 잘 어울릴수가\n",
      "세기의 곡이다\n",
      "패닝 명곡은 지금도 멈추지 않는다\n",
      "cherish 01 이 노래 가사는 왕을 나타내는게 아니라 ㄹㅇ 청춘을 노래하는 느낌임 \n",
      "누구에게나 청춘은 빛났고 화려했으니까\n",
      "할머니 할아버지가 되어서 지금들의 청춘들을 보면서 예전을 떠올리는거같음\n",
      "최대현 이 노래를 라이브로 듣게 되다니 정말 가슴이 웅장해 지는듯 합니다... 예전부터 지금까지 잘 듣고 있네요... 이런 좋은 노래 내주셔서 너무 감사합니다!!\n",
      "유지민 내한 때 생각난다... 8시 정각에 콘서트 시작 안하니까 사람들 한명 한명 비바라비다 부르기 시작하고 비바라비다 부를 때도 떼창 진짜 소름 돋았고 콘서트 끝나고도 다들 떼창하고 경기장 나와서도 다 떼창하고 지하철역에서도 다 떼창하고\n",
      "동준 제목만 보고 어떤 노래인지 몰랐는데 영상 틀어서 들어보니 아! 이노래였구나 할정도로 유명한 곡이죠 ㅎㅎ 콜드플레이 정말 너무 멋있고 노래도 너무 신나고 행복해지게 만들어주시는것 같아요 너무 잘 듣고 가요 ㅠ 항상 응원합니다 ㅎㅎ\n",
      "아루스_레이 하…이 웅장한 비트 사운드와 크고 우람하고 아름다운 스타디움…거기에 관중들의 환호성까지…이래서 내가 이걸 못끊지..\n",
      "에밀리아 땅 언제나 심장을 뛰게만드는 *노래*.\n"
     ]
    }
   ],
   "source": [
    "for i in range(len(id_list)):\n",
    "    print(id_list[i].text.strip(), comment_list[i].text.strip())"
   ]
  },
  {
   "cell_type": "code",
   "execution_count": 39,
   "id": "31631591",
   "metadata": {},
   "outputs": [],
   "source": [
    "id_new = []\n",
    "comment_new = []\n",
    "\n",
    "for i in range(len(id_list)):\n",
    "    cln_id = id_list[i].text\n",
    "    cln_id = cln_id.replace(\"\\n\",\"\")\n",
    "    cln_id = cln_id.replace(\"\\t\",\"\")\n",
    "    cln_id = cln_id.replace(\"        \",\"\")\n",
    "    id_new.append(cln_id)\n",
    "    \n",
    "    cln_comment = comment_list[i].text\n",
    "    cln_comment = cln_comment.replace(\"\\n\",\"\")\n",
    "    cln_comment = cln_comment.replace(\"\\t\",\"\")\n",
    "    cln_comment = cln_comment.replace(\"        \",\"\")\n",
    "    comment_new.append(cln_comment)"
   ]
  },
  {
   "cell_type": "code",
   "execution_count": 40,
   "id": "225690a1",
   "metadata": {},
   "outputs": [
    {
     "data": {
      "text/html": [
       "<div>\n",
       "<style scoped>\n",
       "    .dataframe tbody tr th:only-of-type {\n",
       "        vertical-align: middle;\n",
       "    }\n",
       "\n",
       "    .dataframe tbody tr th {\n",
       "        vertical-align: top;\n",
       "    }\n",
       "\n",
       "    .dataframe thead th {\n",
       "        text-align: right;\n",
       "    }\n",
       "</style>\n",
       "<table border=\"1\" class=\"dataframe\">\n",
       "  <thead>\n",
       "    <tr style=\"text-align: right;\">\n",
       "      <th></th>\n",
       "      <th>ID</th>\n",
       "      <th>Comment</th>\n",
       "    </tr>\n",
       "  </thead>\n",
       "  <tbody>\n",
       "    <tr>\n",
       "      <th>0</th>\n",
       "      <td>hwnngbo황보</td>\n",
       "      <td>이 노래 처음 나왔을 때가 저 고1때였나, 친구네 집 아파트 옥상에서 들었는데, 고...</td>\n",
       "    </tr>\n",
       "    <tr>\n",
       "      <th>1</th>\n",
       "      <td>Ryan Chang</td>\n",
       "      <td>단지 방구석에서 좁아터진 24인치모니터로 봐도 가슴이 터질지경인데 직관하신 분들은 ...</td>\n",
       "    </tr>\n",
       "    <tr>\n",
       "      <th>2</th>\n",
       "      <td>임한결</td>\n",
       "      <td>데뷔할 때만 해도 20대였던 크리스와 멤버들..어느덧 벌써 40이 넘어가셨네..진짜...</td>\n",
       "    </tr>\n",
       "    <tr>\n",
       "      <th>3</th>\n",
       "      <td>운동하는 작은 친구</td>\n",
       "      <td>\"성공한 사람에게는 추억을\"\"성공할려는 자에게는 용기를\"(뇌절 멈춰!!!)</td>\n",
       "    </tr>\n",
       "    <tr>\n",
       "      <th>4</th>\n",
       "      <td>공리나</td>\n",
       "      <td>내한왔을때 광클해서 펜스 둘째줄 쯤에서 봤는데.. 인생운 다쓴듯. 코로나 시국이 올...</td>\n",
       "    </tr>\n",
       "  </tbody>\n",
       "</table>\n",
       "</div>"
      ],
      "text/plain": [
       "                     ID                                            Comment\n",
       "0         hwnngbo황보      이 노래 처음 나왔을 때가 저 고1때였나, 친구네 집 아파트 옥상에서 들었는데, 고...\n",
       "1        Ryan Chang      단지 방구석에서 좁아터진 24인치모니터로 봐도 가슴이 터질지경인데 직관하신 분들은 ...\n",
       "2               임한결      데뷔할 때만 해도 20대였던 크리스와 멤버들..어느덧 벌써 40이 넘어가셨네..진짜...\n",
       "3        운동하는 작은 친구              \"성공한 사람에게는 추억을\"\"성공할려는 자에게는 용기를\"(뇌절 멈춰!!!)\n",
       "4               공리나      내한왔을때 광클해서 펜스 둘째줄 쯤에서 봤는데.. 인생운 다쓴듯. 코로나 시국이 올..."
      ]
     },
     "execution_count": 40,
     "metadata": {},
     "output_type": "execute_result"
    }
   ],
   "source": [
    "df = pd.DataFrame({\"ID\":id_new,\"Comment\":comment_new})\n",
    "df.head()"
   ]
  },
  {
   "cell_type": "code",
   "execution_count": 41,
   "id": "ee050309",
   "metadata": {},
   "outputs": [
    {
     "name": "stdout",
     "output_type": "stream",
     "text": [
      "<class 'pandas.core.frame.DataFrame'>\n",
      "RangeIndex: 40 entries, 0 to 39\n",
      "Data columns (total 2 columns):\n",
      " #   Column   Non-Null Count  Dtype \n",
      "---  ------   --------------  ----- \n",
      " 0   ID       40 non-null     object\n",
      " 1   Comment  40 non-null     object\n",
      "dtypes: object(2)\n",
      "memory usage: 768.0+ bytes\n"
     ]
    }
   ],
   "source": [
    "df.info()"
   ]
  },
  {
   "cell_type": "code",
   "execution_count": null,
   "id": "e6ea32ef",
   "metadata": {},
   "outputs": [],
   "source": []
  },
  {
   "cell_type": "code",
   "execution_count": null,
   "id": "0852d4bb",
   "metadata": {},
   "outputs": [],
   "source": []
  }
 ],
 "metadata": {
  "kernelspec": {
   "display_name": "Python 3 (ipykernel)",
   "language": "python",
   "name": "python3"
  },
  "language_info": {
   "codemirror_mode": {
    "name": "ipython",
    "version": 3
   },
   "file_extension": ".py",
   "mimetype": "text/x-python",
   "name": "python",
   "nbconvert_exporter": "python",
   "pygments_lexer": "ipython3",
   "version": "3.9.12"
  }
 },
 "nbformat": 4,
 "nbformat_minor": 5
}
