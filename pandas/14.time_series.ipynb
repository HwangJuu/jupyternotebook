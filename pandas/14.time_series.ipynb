{
 "cells": [
  {
   "cell_type": "markdown",
   "id": "c8f6fec1",
   "metadata": {},
   "source": [
    "### 시계열\n",
    "- 시간상 여러 지점을 관측하거나 측정할 수 있도록 목록 또는 그래프로 표시한 일련의 데이터 저\n",
    "- 일정한 간격의 연속적이고 동등한 점들로 이루어진 시퀀스\n",
    "- 빅데이터에서 일반적으로 동등한 시간 간격으로 배치된 연속적 사건으로 나타남\n",
    "- ex) 금융 시장의 주가 예측, 일기 예보, 전력 에너지 소비 추세, 웹 사이트 방문자 수 트렌드 등"
   ]
  },
  {
   "cell_type": "markdown",
   "id": "2257ecd5",
   "metadata": {},
   "source": [
    "### pandas로 날짜 데이터 다루기\n",
    "\n",
    "### 1. 시계열 자료과 pandas\n",
    "- 년도별, 월별, 일별, 시별, 분별, 초별 등 시간의 흐름에 따라 관측된 자료\n",
    "- pandas에서 시계열 자료를 손쉽게 다룰 수 있도록 <b>datetime(datetime64)</b> 자료형 제공\n",
    "    - pd.to_datetime() 함수를 사용해서, 날짜와 시간을 나타내는 문자열을 datetime(datetime64) 자료형으로 변경"
   ]
  },
  {
   "cell_type": "code",
   "execution_count": 1,
   "id": "b29baddd",
   "metadata": {},
   "outputs": [],
   "source": [
    "import pandas as pd"
   ]
  },
  {
   "cell_type": "markdown",
   "id": "578f9afb",
   "metadata": {},
   "source": [
    "#### 1) 날짜 인덱스 지정"
   ]
  },
  {
   "cell_type": "code",
   "execution_count": 2,
   "id": "1b3ce70a",
   "metadata": {},
   "outputs": [
    {
     "data": {
      "text/plain": [
       "2022-01-01    0\n",
       "2022-01-02    1\n",
       "2022-01-03    2\n",
       "Freq: D, dtype: int64"
      ]
     },
     "execution_count": 2,
     "metadata": {},
     "output_type": "execute_result"
    }
   ],
   "source": [
    "pd.Series(range(3), index=pd.date_range('2022',freq='D', periods=3))"
   ]
  },
  {
   "cell_type": "markdown",
   "id": "f3d0469b",
   "metadata": {},
   "source": [
    "#### 2) 날짜 values 지정"
   ]
  },
  {
   "cell_type": "code",
   "execution_count": 3,
   "id": "f074fae8",
   "metadata": {},
   "outputs": [
    {
     "data": {
      "text/plain": [
       "0   2022-01-01\n",
       "1   2022-01-02\n",
       "2   2022-01-03\n",
       "dtype: datetime64[ns]"
      ]
     },
     "execution_count": 3,
     "metadata": {},
     "output_type": "execute_result"
    }
   ],
   "source": [
    "pd.Series(pd.date_range('2022',freq='D', periods=3))"
   ]
  },
  {
   "cell_type": "code",
   "execution_count": 4,
   "id": "336f872d",
   "metadata": {},
   "outputs": [
    {
     "data": {
      "text/plain": [
       "0   2022-07-01\n",
       "1   2022-07-02\n",
       "2   2022-07-03\n",
       "dtype: datetime64[ns]"
      ]
     },
     "execution_count": 4,
     "metadata": {},
     "output_type": "execute_result"
    }
   ],
   "source": [
    "# 날짜 지정 가능\n",
    "pd.Series(pd.date_range('20220701',freq='D', periods=3))"
   ]
  },
  {
   "cell_type": "markdown",
   "id": "3c99c618",
   "metadata": {},
   "source": [
    "#### 3) 날짜 + 시간 values"
   ]
  },
  {
   "cell_type": "code",
   "execution_count": 5,
   "id": "4168dc5a",
   "metadata": {
    "scrolled": true
   },
   "outputs": [
    {
     "data": {
      "text/plain": [
       "0   2022-07-01 09:10:12\n",
       "1   2022-07-01 10:10:12\n",
       "2   2022-07-01 11:10:12\n",
       "dtype: datetime64[ns]"
      ]
     },
     "execution_count": 5,
     "metadata": {},
     "output_type": "execute_result"
    }
   ],
   "source": [
    "# freq='H' 시간 변경\n",
    "pd.Series(pd.date_range('20220701 09:10:12',freq='H', periods=3))"
   ]
  },
  {
   "cell_type": "markdown",
   "id": "08933c44",
   "metadata": {},
   "source": [
    "#### 4) dt"
   ]
  },
  {
   "cell_type": "code",
   "execution_count": 7,
   "id": "b760f884",
   "metadata": {},
   "outputs": [
    {
     "data": {
      "text/plain": [
       "0   2022-07-01 09:10:12\n",
       "1   2022-07-01 10:10:12\n",
       "2   2022-07-01 11:10:12\n",
       "dtype: datetime64[ns]"
      ]
     },
     "execution_count": 7,
     "metadata": {},
     "output_type": "execute_result"
    }
   ],
   "source": [
    "# 생성\n",
    "ser1= pd.Series(pd.date_range('20220701 09:10:12',freq='H', periods=3))\n",
    "ser1"
   ]
  },
  {
   "cell_type": "code",
   "execution_count": 8,
   "id": "7b17f3df",
   "metadata": {},
   "outputs": [
    {
     "data": {
      "text/plain": [
       "0     9\n",
       "1    10\n",
       "2    11\n",
       "dtype: int64"
      ]
     },
     "execution_count": 8,
     "metadata": {},
     "output_type": "execute_result"
    }
   ],
   "source": [
    "# 시간\n",
    "ser1.dt.hour"
   ]
  },
  {
   "cell_type": "code",
   "execution_count": 9,
   "id": "ae22bebc",
   "metadata": {
    "scrolled": true
   },
   "outputs": [
    {
     "data": {
      "text/plain": [
       "0    10\n",
       "1    10\n",
       "2    10\n",
       "dtype: int64"
      ]
     },
     "execution_count": 9,
     "metadata": {},
     "output_type": "execute_result"
    }
   ],
   "source": [
    "# 분\n",
    "ser1.dt.minute"
   ]
  },
  {
   "cell_type": "code",
   "execution_count": 10,
   "id": "d7430391",
   "metadata": {},
   "outputs": [
    {
     "data": {
      "text/plain": [
       "0    12\n",
       "1    12\n",
       "2    12\n",
       "dtype: int64"
      ]
     },
     "execution_count": 10,
     "metadata": {},
     "output_type": "execute_result"
    }
   ],
   "source": [
    "#초\n",
    "ser1.dt.second"
   ]
  },
  {
   "cell_type": "code",
   "execution_count": 12,
   "id": "c67708b3",
   "metadata": {},
   "outputs": [
    {
     "data": {
      "text/plain": [
       "0    2022\n",
       "1    2022\n",
       "2    2022\n",
       "dtype: int64"
      ]
     },
     "execution_count": 12,
     "metadata": {},
     "output_type": "execute_result"
    }
   ],
   "source": [
    "#년\n",
    "ser1.dt.year"
   ]
  },
  {
   "cell_type": "code",
   "execution_count": 13,
   "id": "62e756bb",
   "metadata": {},
   "outputs": [
    {
     "data": {
      "text/plain": [
       "0    7\n",
       "1    7\n",
       "2    7\n",
       "dtype: int64"
      ]
     },
     "execution_count": 13,
     "metadata": {},
     "output_type": "execute_result"
    }
   ],
   "source": [
    "# 월\n",
    "ser1.dt.month"
   ]
  },
  {
   "cell_type": "code",
   "execution_count": 14,
   "id": "f8749fc3",
   "metadata": {},
   "outputs": [
    {
     "data": {
      "text/plain": [
       "0   2022-07-01 09:10:12\n",
       "1   2022-07-02 09:10:12\n",
       "2   2022-07-03 09:10:12\n",
       "dtype: datetime64[ns]"
      ]
     },
     "execution_count": 14,
     "metadata": {},
     "output_type": "execute_result"
    }
   ],
   "source": [
    "# 생성\n",
    "ser1= pd.Series(pd.date_range('20220701 09:10:12', periods=3))\n",
    "ser1"
   ]
  },
  {
   "cell_type": "code",
   "execution_count": 15,
   "id": "88e10e00",
   "metadata": {
    "scrolled": true
   },
   "outputs": [
    {
     "data": {
      "text/plain": [
       "1   2022-07-02 09:10:12\n",
       "dtype: datetime64[ns]"
      ]
     },
     "execution_count": 15,
     "metadata": {},
     "output_type": "execute_result"
    }
   ],
   "source": [
    "# 2일 날짜 추출\n",
    "ser1[ser1.dt.day == 2]"
   ]
  },
  {
   "cell_type": "code",
   "execution_count": null,
   "id": "138ecda3",
   "metadata": {},
   "outputs": [],
   "source": []
  },
  {
   "cell_type": "code",
   "execution_count": 19,
   "id": "ab50f414",
   "metadata": {},
   "outputs": [
    {
     "data": {
      "text/html": [
       "<div>\n",
       "<style scoped>\n",
       "    .dataframe tbody tr th:only-of-type {\n",
       "        vertical-align: middle;\n",
       "    }\n",
       "\n",
       "    .dataframe tbody tr th {\n",
       "        vertical-align: top;\n",
       "    }\n",
       "\n",
       "    .dataframe thead th {\n",
       "        text-align: right;\n",
       "    }\n",
       "</style>\n",
       "<table border=\"1\" class=\"dataframe\">\n",
       "  <thead>\n",
       "    <tr style=\"text-align: right;\">\n",
       "      <th></th>\n",
       "      <th>order</th>\n",
       "    </tr>\n",
       "  </thead>\n",
       "  <tbody>\n",
       "    <tr>\n",
       "      <th>0</th>\n",
       "      <td>2020-01-01 07:10:00</td>\n",
       "    </tr>\n",
       "    <tr>\n",
       "      <th>1</th>\n",
       "      <td>2020-01-01 07:20:30</td>\n",
       "    </tr>\n",
       "    <tr>\n",
       "      <th>2</th>\n",
       "      <td>2020-02-20 11:20:00</td>\n",
       "    </tr>\n",
       "    <tr>\n",
       "      <th>3</th>\n",
       "      <td>2020-02-20 14:12:10</td>\n",
       "    </tr>\n",
       "    <tr>\n",
       "      <th>4</th>\n",
       "      <td>2020-03-01 06:19:30</td>\n",
       "    </tr>\n",
       "    <tr>\n",
       "      <th>5</th>\n",
       "      <td>2020-07-08 12:54:15</td>\n",
       "    </tr>\n",
       "  </tbody>\n",
       "</table>\n",
       "</div>"
      ],
      "text/plain": [
       "                 order\n",
       "0  2020-01-01 07:10:00\n",
       "1  2020-01-01 07:20:30\n",
       "2  2020-02-20 11:20:00\n",
       "3  2020-02-20 14:12:10\n",
       "4  2020-03-01 06:19:30\n",
       "5  2020-07-08 12:54:15"
      ]
     },
     "execution_count": 19,
     "metadata": {},
     "output_type": "execute_result"
    }
   ],
   "source": [
    "# 생성\n",
    "df = pd.DataFrame({\n",
    "    'order':['2020-01-01 07:10:00', '2020-01-01 07:20:30', '2020-02-20 11:20:00',\n",
    "            '2020-02-20 14:12:10', '2020-03-01 06:19:30', '2020-07-08 12:54:15']\n",
    "})\n",
    "df"
   ]
  },
  {
   "cell_type": "code",
   "execution_count": 20,
   "id": "f2d5e296",
   "metadata": {},
   "outputs": [
    {
     "name": "stdout",
     "output_type": "stream",
     "text": [
      "<class 'pandas.core.frame.DataFrame'>\n",
      "RangeIndex: 6 entries, 0 to 5\n",
      "Data columns (total 1 columns):\n",
      " #   Column  Non-Null Count  Dtype \n",
      "---  ------  --------------  ----- \n",
      " 0   order   6 non-null      object\n",
      "dtypes: object(1)\n",
      "memory usage: 176.0+ bytes\n"
     ]
    }
   ],
   "source": [
    "df.info()"
   ]
  },
  {
   "cell_type": "code",
   "execution_count": 21,
   "id": "fd16a0cc",
   "metadata": {},
   "outputs": [
    {
     "data": {
      "text/plain": [
       "0   2020-01-01 07:10:00\n",
       "1   2020-01-01 07:20:30\n",
       "2   2020-02-20 11:20:00\n",
       "3   2020-02-20 14:12:10\n",
       "4   2020-03-01 06:19:30\n",
       "5   2020-07-08 12:54:15\n",
       "Name: order, dtype: datetime64[ns]"
      ]
     },
     "execution_count": 21,
     "metadata": {},
     "output_type": "execute_result"
    }
   ],
   "source": [
    "pd.to_datetime(df['order'])"
   ]
  },
  {
   "cell_type": "code",
   "execution_count": 22,
   "id": "204b4db6",
   "metadata": {},
   "outputs": [],
   "source": [
    "df['order'] = pd.to_datetime(df['order'], format='%Y-%m-%d %H:%M:%S', errors='raise')"
   ]
  },
  {
   "cell_type": "code",
   "execution_count": 23,
   "id": "b5b2fb87",
   "metadata": {},
   "outputs": [
    {
     "data": {
      "text/html": [
       "<div>\n",
       "<style scoped>\n",
       "    .dataframe tbody tr th:only-of-type {\n",
       "        vertical-align: middle;\n",
       "    }\n",
       "\n",
       "    .dataframe tbody tr th {\n",
       "        vertical-align: top;\n",
       "    }\n",
       "\n",
       "    .dataframe thead th {\n",
       "        text-align: right;\n",
       "    }\n",
       "</style>\n",
       "<table border=\"1\" class=\"dataframe\">\n",
       "  <thead>\n",
       "    <tr style=\"text-align: right;\">\n",
       "      <th></th>\n",
       "      <th>order</th>\n",
       "    </tr>\n",
       "  </thead>\n",
       "  <tbody>\n",
       "    <tr>\n",
       "      <th>0</th>\n",
       "      <td>2020-01-01 07:10:00</td>\n",
       "    </tr>\n",
       "    <tr>\n",
       "      <th>1</th>\n",
       "      <td>2020-01-01 07:20:30</td>\n",
       "    </tr>\n",
       "    <tr>\n",
       "      <th>2</th>\n",
       "      <td>2020-02-20 11:20:00</td>\n",
       "    </tr>\n",
       "    <tr>\n",
       "      <th>3</th>\n",
       "      <td>2020-02-20 14:12:10</td>\n",
       "    </tr>\n",
       "    <tr>\n",
       "      <th>4</th>\n",
       "      <td>2020-03-01 06:19:30</td>\n",
       "    </tr>\n",
       "    <tr>\n",
       "      <th>5</th>\n",
       "      <td>2020-07-08 12:54:15</td>\n",
       "    </tr>\n",
       "  </tbody>\n",
       "</table>\n",
       "</div>"
      ],
      "text/plain": [
       "                order\n",
       "0 2020-01-01 07:10:00\n",
       "1 2020-01-01 07:20:30\n",
       "2 2020-02-20 11:20:00\n",
       "3 2020-02-20 14:12:10\n",
       "4 2020-03-01 06:19:30\n",
       "5 2020-07-08 12:54:15"
      ]
     },
     "execution_count": 23,
     "metadata": {},
     "output_type": "execute_result"
    }
   ],
   "source": [
    "df"
   ]
  },
  {
   "cell_type": "code",
   "execution_count": null,
   "id": "7a6c4fae",
   "metadata": {},
   "outputs": [],
   "source": []
  },
  {
   "cell_type": "code",
   "execution_count": null,
   "id": "1cd938c6",
   "metadata": {},
   "outputs": [],
   "source": []
  },
  {
   "cell_type": "code",
   "execution_count": null,
   "id": "cc93ff31",
   "metadata": {},
   "outputs": [],
   "source": []
  },
  {
   "cell_type": "code",
   "execution_count": null,
   "id": "808d113c",
   "metadata": {},
   "outputs": [],
   "source": []
  },
  {
   "cell_type": "code",
   "execution_count": null,
   "id": "6b1404ef",
   "metadata": {},
   "outputs": [],
   "source": []
  },
  {
   "cell_type": "code",
   "execution_count": null,
   "id": "5b85432d",
   "metadata": {},
   "outputs": [],
   "source": []
  },
  {
   "cell_type": "code",
   "execution_count": null,
   "id": "0ee4cb9e",
   "metadata": {},
   "outputs": [],
   "source": []
  }
 ],
 "metadata": {
  "kernelspec": {
   "display_name": "Python 3 (ipykernel)",
   "language": "python",
   "name": "python3"
  },
  "language_info": {
   "codemirror_mode": {
    "name": "ipython",
    "version": 3
   },
   "file_extension": ".py",
   "mimetype": "text/x-python",
   "name": "python",
   "nbconvert_exporter": "python",
   "pygments_lexer": "ipython3",
   "version": "3.9.12"
  }
 },
 "nbformat": 4,
 "nbformat_minor": 5
}
